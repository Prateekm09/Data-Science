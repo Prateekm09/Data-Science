{
    "cells": [
        {
            "cell_type": "markdown",
            "metadata": {},
            "source": "# Marriage and divorces dataset"
        },
        {
            "cell_type": "code",
            "execution_count": 1,
            "metadata": {},
            "outputs": [
                {
                    "data": {
                        "text/html": "<div>\n<style scoped>\n    .dataframe tbody tr th:only-of-type {\n        vertical-align: middle;\n    }\n\n    .dataframe tbody tr th {\n        vertical-align: top;\n    }\n\n    .dataframe thead th {\n        text-align: right;\n    }\n</style>\n<table border=\"1\" class=\"dataframe\">\n  <thead>\n    <tr style=\"text-align: right;\">\n      <th></th>\n      <th>Period</th>\n      <th>Marriages_or_Divorces</th>\n      <th>Count</th>\n    </tr>\n  </thead>\n  <tbody>\n    <tr>\n      <th>0</th>\n      <td>2005</td>\n      <td>Marriages</td>\n      <td>20718</td>\n    </tr>\n    <tr>\n      <th>1</th>\n      <td>2006</td>\n      <td>Marriages</td>\n      <td>21798</td>\n    </tr>\n    <tr>\n      <th>2</th>\n      <td>2007</td>\n      <td>Marriages</td>\n      <td>21810</td>\n    </tr>\n    <tr>\n      <th>3</th>\n      <td>2008</td>\n      <td>Marriages</td>\n      <td>22275</td>\n    </tr>\n    <tr>\n      <th>4</th>\n      <td>2009</td>\n      <td>Marriages</td>\n      <td>21939</td>\n    </tr>\n    <tr>\n      <th>5</th>\n      <td>2010</td>\n      <td>Marriages</td>\n      <td>21213</td>\n    </tr>\n    <tr>\n      <th>6</th>\n      <td>2011</td>\n      <td>Marriages</td>\n      <td>20532</td>\n    </tr>\n    <tr>\n      <th>7</th>\n      <td>2012</td>\n      <td>Marriages</td>\n      <td>20823</td>\n    </tr>\n    <tr>\n      <th>8</th>\n      <td>2013</td>\n      <td>Marriages</td>\n      <td>19425</td>\n    </tr>\n    <tr>\n      <th>9</th>\n      <td>2014</td>\n      <td>Marriages</td>\n      <td>20175</td>\n    </tr>\n  </tbody>\n</table>\n</div>",
                        "text/plain": "   Period Marriages_or_Divorces   Count\n0    2005              Marriages  20718\n1    2006              Marriages  21798\n2    2007              Marriages  21810\n3    2008              Marriages  22275\n4    2009              Marriages  21939\n5    2010              Marriages  21213\n6    2011              Marriages  20532\n7    2012              Marriages  20823\n8    2013              Marriages  19425\n9    2014              Marriages  20175"
                    },
                    "execution_count": 1,
                    "metadata": {},
                    "output_type": "execute_result"
                }
            ],
            "source": "# The code was removed by Watson Studio for sharing."
        },
        {
            "cell_type": "code",
            "execution_count": null,
            "metadata": {},
            "outputs": [],
            "source": ""
        }
    ],
    "metadata": {
        "kernelspec": {
            "display_name": "Python 3.10",
            "language": "python",
            "name": "python3"
        },
        "language_info": {
            "codemirror_mode": {
                "name": "ipython",
                "version": 3
            },
            "file_extension": ".py",
            "mimetype": "text/x-python",
            "name": "python",
            "nbconvert_exporter": "python",
            "pygments_lexer": "ipython3",
            "version": "3.10.14"
        }
    },
    "nbformat": 4,
    "nbformat_minor": 1
}