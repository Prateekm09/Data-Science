{
 "cells": [
  {
   "cell_type": "markdown",
   "id": "0626a2e5-2be2-459b-8d1e-3ed639c32c9e",
   "metadata": {},
   "source": [
    "# Data Science Tools andEcosystem"
   ]
  },
  {
   "cell_type": "markdown",
   "id": "76afa55f-ea54-4bdb-95c5-ba72ea4b2c69",
   "metadata": {},
   "source": [
    "In this notebook, Data Science Tools and Ecosystem are summarized."
   ]
  },
  {
   "cell_type": "markdown",
   "id": "9c09fa90-bde3-43d5-bd4a-c5e2f093cd28",
   "metadata": {},
   "source": [
    "**Objectives**\n",
    "- List popular Languages for data science\n",
    "- List popular libraries for data science\n",
    "- List popular development environments for data science\n",
    "- Create code to showcase simple arithmetic expression\n",
    "- Create code to convert minutes to hours"
   ]
  },
  {
   "cell_type": "markdown",
   "id": "39412d09-0a3d-4266-bbe0-06eee8eda396",
   "metadata": {},
   "source": [
    "Some of the popular languages that Data Scientists use are:\n",
    "1. Python\n",
    "2. R\n",
    "3. SQL"
   ]
  },
  {
   "cell_type": "markdown",
   "id": "2398f8f1-a0e5-474e-a595-c41138945436",
   "metadata": {},
   "source": [
    "Some of the commonly used libraries used by Data Scientists include:\n",
    "\n",
    "1. Matplotlib\n",
    "2. Numpy\n",
    "3. Pandas"
   ]
  },
  {
   "cell_type": "markdown",
   "id": "53434b90-2d05-4a7b-b271-653b80f26609",
   "metadata": {},
   "source": [
    "| Data Science Tools |\n",
    "| ----  |\n",
    "| Jupyter Notebook |\n",
    "| JupyterLite |\n",
    "| Anaconda |\n",
    "| Visual Studio Code |"
   ]
  },
  {
   "cell_type": "markdown",
   "id": "b3fb540f-c2d6-4b44-bba4-9d452af23ebf",
   "metadata": {},
   "source": [
    "### Below are a few examples of evaluating arithmetic expressions in Python"
   ]
  },
  {
   "cell_type": "code",
   "execution_count": 8,
   "id": "56e0a4f8-c293-4044-a872-aa1daf1979d6",
   "metadata": {},
   "outputs": [
    {
     "data": {
      "text/plain": [
       "17"
      ]
     },
     "execution_count": 8,
     "metadata": {},
     "output_type": "execute_result"
    }
   ],
   "source": [
    "(3*4)+5\n",
    "\n",
    "# This is a simple arithmetic expression to multiply and then add integers"
   ]
  },
  {
   "cell_type": "code",
   "execution_count": 9,
   "id": "70400a38-8cbf-4b29-9d35-816f021ccdb9",
   "metadata": {},
   "outputs": [
    {
     "data": {
      "text/plain": [
       "3.3333333333333335"
      ]
     },
     "execution_count": 9,
     "metadata": {},
     "output_type": "execute_result"
    }
   ],
   "source": [
    "# Converting minutes to hours\n",
    "\n",
    "200/60\n",
    "\n",
    "# This will convert 200 minutes to hours by dividing by 60"
   ]
  },
  {
   "cell_type": "markdown",
   "id": "c9e81316-b769-4b5e-9734-7d87666240e9",
   "metadata": {},
   "source": [
    "## Author\n",
    "Prateek"
   ]
  },
  {
   "cell_type": "code",
   "execution_count": null,
   "id": "f0e1c696-1847-46f7-b855-9292e32b4b45",
   "metadata": {},
   "outputs": [],
   "source": []
  }
 ],
 "metadata": {
  "kernelspec": {
   "display_name": "Python 3 (ipykernel)",
   "language": "python",
   "name": "python3"
  },
  "language_info": {
   "codemirror_mode": {
    "name": "ipython",
    "version": 3
   },
   "file_extension": ".py",
   "mimetype": "text/x-python",
   "name": "python",
   "nbconvert_exporter": "python",
   "pygments_lexer": "ipython3",
   "version": "3.12.4"
  }
 },
 "nbformat": 4,
 "nbformat_minor": 5
}
